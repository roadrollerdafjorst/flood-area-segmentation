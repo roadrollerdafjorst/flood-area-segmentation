{
  "cells": [
    {
      "cell_type": "code",
      "execution_count": null,
      "metadata": {
        "id": "X7X4HKwMhuGO"
      },
      "outputs": [],
      "source": [
        "import warnings\n",
        "warnings.simplefilter('ignore')"
      ]
    },
    {
      "cell_type": "code",
      "execution_count": null,
      "metadata": {
        "id": "LbKs7zNmhaYu"
      },
      "outputs": [],
      "source": [
        "import torch\n",
        "import torch.nn as nn\n",
        "import torch.nn.functional as F\n",
        "import torchvision.models as models\n",
        "import torchvision.transforms as transforms\n",
        "import torchvision.transforms.functional as TF\n",
        "import torch.optim as optim\n",
        "from PIL import Image\n",
        "from torchvision.utils import save_image\n",
        "from torchsummary import summary\n",
        "from torch.utils.data import Dataset\n",
        "import numpy as np\n",
        "from torchvision.datasets import ImageFolder\n",
        "from torch.utils.data import DataLoader\n",
        "import matplotlib.pyplot as plt\n",
        "import pandas as pd\n",
        "import os"
      ]
    },
    {
      "cell_type": "code",
      "execution_count": null,
      "metadata": {
        "colab": {
          "base_uri": "https://localhost:8080/"
        },
        "id": "uJ_j_wWFhvOA",
        "outputId": "2a87a13a-3dee-4804-d319-a5c2334684f3"
      },
      "outputs": [
        {
          "name": "stdout",
          "output_type": "stream",
          "text": [
            "cuda\n"
          ]
        }
      ],
      "source": [
        "device = torch.device(\"cuda\" if torch.cuda.is_available() else \"cpu\")\n",
        "print(device)"
      ]
    },
    {
      "cell_type": "markdown",
      "metadata": {
        "id": "AtUrmwkV41Oi"
      },
      "source": [
        "# Model"
      ]
    },
    {
      "cell_type": "code",
      "execution_count": null,
      "metadata": {
        "id": "bdyz9Trdh1dP"
      },
      "outputs": [],
      "source": [
        "# conv blocks at one level\n",
        "\n",
        "class convBlock(nn.Module):\n",
        "  def __init__(self, in_channels, num_features):\n",
        "    super(convBlock, self).__init__()\n",
        "\n",
        "    self.conv = nn.Sequential(\n",
        "        nn.Conv2d(in_channels=in_channels, out_channels=num_features, kernel_size=3, stride=1, padding=1, bias=False),\n",
        "        nn.BatchNorm2d(num_features=num_features),\n",
        "        nn.ReLU(inplace=True),\n",
        "        nn.Conv2d(in_channels=num_features, out_channels=num_features, kernel_size=3, stride=1, padding=1, bias=False),\n",
        "        nn.BatchNorm2d(num_features=num_features),\n",
        "        nn.ReLU(inplace=True),\n",
        "    )\n",
        "\n",
        "  def forward(self, x):\n",
        "    return self.conv(x)\n"
      ]
    },
    {
      "cell_type": "code",
      "execution_count": null,
      "metadata": {
        "id": "8NVWyVOgl1qG"
      },
      "outputs": [],
      "source": [
        "# Unet\n",
        "\n",
        "class UNET(nn.Module):\n",
        "  def __init__(\n",
        "      self, in_channels=3, out_channels=1, features=[64, 128, 256, 512]\n",
        "  ):\n",
        "    super(UNET, self).__init__()\n",
        "\n",
        "    self.contract = nn.ModuleList()\n",
        "    self.expand = nn.ModuleList()\n",
        "    self.pool = nn.MaxPool2d(kernel_size=2, stride=2)\n",
        "\n",
        "    # Contracting Path\n",
        "    for feature in features:\n",
        "      self.contract.append(convBlock(in_channels, feature))\n",
        "      in_channels = feature\n",
        "\n",
        "    # Expanding Path\n",
        "    for feature in reversed(features):\n",
        "      self.expand.append(nn.ConvTranspose2d(feature*2, feature, kernel_size=2, stride=2))\n",
        "      self.expand.append(convBlock(feature*2, feature))\n",
        "\n",
        "    # Bottleneck layer\n",
        "    self.bottleneck = convBlock(features[-1], features[-1]*2)\n",
        "    self.final_conv = nn.Conv2d(features[0], out_channels, kernel_size=1)\n",
        "\n",
        "  def forward(self, x):\n",
        "    skip_connections = []\n",
        "\n",
        "    for layer in self.contract:\n",
        "      x = layer(x)\n",
        "      skip_connections.append(x)\n",
        "      x = self.pool(x)\n",
        "\n",
        "    x = self.bottleneck(x)\n",
        "    skip_connections = skip_connections[::-1]\n",
        "\n",
        "    for i in range(0, len(self.expand), 2):\n",
        "      x = self.expand[i](x)\n",
        "      skip = skip_connections[i//2]\n",
        "\n",
        "      if x.shape!=skip.shape:\n",
        "        x = TF.resize(x, size=skip.shape[2:])\n",
        "\n",
        "      concat_skip = torch.cat((skip, x), dim=1)\n",
        "      x = self.expand[i+1](concat_skip)\n",
        "\n",
        "    return self.final_conv(x)"
      ]
    },
    {
      "cell_type": "code",
      "execution_count": null,
      "metadata": {
        "colab": {
          "base_uri": "https://localhost:8080/"
        },
        "id": "1WrSLruz3e-v",
        "outputId": "fb45153a-0840-4ce7-aa22-fbefc84c85c3"
      },
      "outputs": [
        {
          "name": "stdout",
          "output_type": "stream",
          "text": [
            "torch.Size([3, 1, 161, 161])\n",
            "True\n"
          ]
        }
      ],
      "source": [
        "def test():\n",
        "  x = torch.randn((3, 1, 161, 161))\n",
        "  model = UNET(1, 1)\n",
        "  preds = model(x)\n",
        "  print(preds.shape)\n",
        "  print(x.shape==preds.shape)\n",
        "\n",
        "test()"
      ]
    },
    {
      "cell_type": "markdown",
      "metadata": {
        "id": "5fVbLe3L454s"
      },
      "source": [
        "# Dataset"
      ]
    },
    {
      "cell_type": "code",
      "execution_count": null,
      "metadata": {
        "colab": {
          "base_uri": "https://localhost:8080/"
        },
        "id": "UKs6vcvx3_GQ",
        "outputId": "883bca1d-3d4d-4a78-c6ac-ca48d7d9e9d0"
      },
      "outputs": [
        {
          "name": "stdout",
          "output_type": "stream",
          "text": [
            "Collecting opendatasets\n",
            "  Downloading opendatasets-0.1.22-py3-none-any.whl (15 kB)\n",
            "Requirement already satisfied: tqdm in /usr/local/lib/python3.10/dist-packages (from opendatasets) (4.66.1)\n",
            "Requirement already satisfied: kaggle in /usr/local/lib/python3.10/dist-packages (from opendatasets) (1.5.16)\n",
            "Requirement already satisfied: click in /usr/local/lib/python3.10/dist-packages (from opendatasets) (8.1.7)\n",
            "Requirement already satisfied: six>=1.10 in /usr/local/lib/python3.10/dist-packages (from kaggle->opendatasets) (1.16.0)\n",
            "Requirement already satisfied: certifi in /usr/local/lib/python3.10/dist-packages (from kaggle->opendatasets) (2023.7.22)\n",
            "Requirement already satisfied: python-dateutil in /usr/local/lib/python3.10/dist-packages (from kaggle->opendatasets) (2.8.2)\n",
            "Requirement already satisfied: requests in /usr/local/lib/python3.10/dist-packages (from kaggle->opendatasets) (2.31.0)\n",
            "Requirement already satisfied: python-slugify in /usr/local/lib/python3.10/dist-packages (from kaggle->opendatasets) (8.0.1)\n",
            "Requirement already satisfied: urllib3 in /usr/local/lib/python3.10/dist-packages (from kaggle->opendatasets) (2.0.4)\n",
            "Requirement already satisfied: bleach in /usr/local/lib/python3.10/dist-packages (from kaggle->opendatasets) (6.0.0)\n",
            "Requirement already satisfied: webencodings in /usr/local/lib/python3.10/dist-packages (from bleach->kaggle->opendatasets) (0.5.1)\n",
            "Requirement already satisfied: text-unidecode>=1.3 in /usr/local/lib/python3.10/dist-packages (from python-slugify->kaggle->opendatasets) (1.3)\n",
            "Requirement already satisfied: charset-normalizer<4,>=2 in /usr/local/lib/python3.10/dist-packages (from requests->kaggle->opendatasets) (3.2.0)\n",
            "Requirement already satisfied: idna<4,>=2.5 in /usr/local/lib/python3.10/dist-packages (from requests->kaggle->opendatasets) (3.4)\n",
            "Installing collected packages: opendatasets\n",
            "Successfully installed opendatasets-0.1.22\n",
            "Please provide your Kaggle credentials to download this dataset. Learn more: http://bit.ly/kaggle-creds\n",
            "Your Kaggle username: roadrollerda\n",
            "Your Kaggle Key: ··········\n",
            "Downloading flood-area-segmentation.zip to ./flood-area-segmentation\n"
          ]
        },
        {
          "name": "stderr",
          "output_type": "stream",
          "text": [
            "100%|██████████| 107M/107M [00:00<00:00, 171MB/s] \n"
          ]
        },
        {
          "name": "stdout",
          "output_type": "stream",
          "text": [
            "\n"
          ]
        }
      ],
      "source": [
        "!pip install opendatasets\n",
        "import opendatasets as od\n",
        "od.download(\"https://www.kaggle.com/datasets/faizalkarim/flood-area-segmentation\")"
      ]
    },
    {
      "cell_type": "code",
      "execution_count": null,
      "metadata": {
        "colab": {
          "base_uri": "https://localhost:8080/",
          "height": 206
        },
        "id": "Cr8MUz62442y",
        "outputId": "0c8f0ef8-090f-4876-c9ea-7fed121eb74a"
      },
      "outputs": [
        {
          "data": {
            "text/html": [
              "\n",
              "  <div id=\"df-6a89b6a9-8321-43f5-adf3-7c9705db672d\" class=\"colab-df-container\">\n",
              "    <div>\n",
              "<style scoped>\n",
              "    .dataframe tbody tr th:only-of-type {\n",
              "        vertical-align: middle;\n",
              "    }\n",
              "\n",
              "    .dataframe tbody tr th {\n",
              "        vertical-align: top;\n",
              "    }\n",
              "\n",
              "    .dataframe thead th {\n",
              "        text-align: right;\n",
              "    }\n",
              "</style>\n",
              "<table border=\"1\" class=\"dataframe\">\n",
              "  <thead>\n",
              "    <tr style=\"text-align: right;\">\n",
              "      <th></th>\n",
              "      <th>Image</th>\n",
              "      <th>Mask</th>\n",
              "    </tr>\n",
              "  </thead>\n",
              "  <tbody>\n",
              "    <tr>\n",
              "      <th>0</th>\n",
              "      <td>0.jpg</td>\n",
              "      <td>0.png</td>\n",
              "    </tr>\n",
              "    <tr>\n",
              "      <th>1</th>\n",
              "      <td>1.jpg</td>\n",
              "      <td>1.png</td>\n",
              "    </tr>\n",
              "    <tr>\n",
              "      <th>2</th>\n",
              "      <td>2.jpg</td>\n",
              "      <td>2.png</td>\n",
              "    </tr>\n",
              "    <tr>\n",
              "      <th>3</th>\n",
              "      <td>3.jpg</td>\n",
              "      <td>3.png</td>\n",
              "    </tr>\n",
              "    <tr>\n",
              "      <th>4</th>\n",
              "      <td>4.jpg</td>\n",
              "      <td>4.png</td>\n",
              "    </tr>\n",
              "  </tbody>\n",
              "</table>\n",
              "</div>\n",
              "    <div class=\"colab-df-buttons\">\n",
              "\n",
              "  <div class=\"colab-df-container\">\n",
              "    <button class=\"colab-df-convert\" onclick=\"convertToInteractive('df-6a89b6a9-8321-43f5-adf3-7c9705db672d')\"\n",
              "            title=\"Convert this dataframe to an interactive table.\"\n",
              "            style=\"display:none;\">\n",
              "\n",
              "  <svg xmlns=\"http://www.w3.org/2000/svg\" height=\"24px\" viewBox=\"0 -960 960 960\">\n",
              "    <path d=\"M120-120v-720h720v720H120Zm60-500h600v-160H180v160Zm220 220h160v-160H400v160Zm0 220h160v-160H400v160ZM180-400h160v-160H180v160Zm440 0h160v-160H620v160ZM180-180h160v-160H180v160Zm440 0h160v-160H620v160Z\"/>\n",
              "  </svg>\n",
              "    </button>\n",
              "\n",
              "  <style>\n",
              "    .colab-df-container {\n",
              "      display:flex;\n",
              "      gap: 12px;\n",
              "    }\n",
              "\n",
              "    .colab-df-convert {\n",
              "      background-color: #E8F0FE;\n",
              "      border: none;\n",
              "      border-radius: 50%;\n",
              "      cursor: pointer;\n",
              "      display: none;\n",
              "      fill: #1967D2;\n",
              "      height: 32px;\n",
              "      padding: 0 0 0 0;\n",
              "      width: 32px;\n",
              "    }\n",
              "\n",
              "    .colab-df-convert:hover {\n",
              "      background-color: #E2EBFA;\n",
              "      box-shadow: 0px 1px 2px rgba(60, 64, 67, 0.3), 0px 1px 3px 1px rgba(60, 64, 67, 0.15);\n",
              "      fill: #174EA6;\n",
              "    }\n",
              "\n",
              "    .colab-df-buttons div {\n",
              "      margin-bottom: 4px;\n",
              "    }\n",
              "\n",
              "    [theme=dark] .colab-df-convert {\n",
              "      background-color: #3B4455;\n",
              "      fill: #D2E3FC;\n",
              "    }\n",
              "\n",
              "    [theme=dark] .colab-df-convert:hover {\n",
              "      background-color: #434B5C;\n",
              "      box-shadow: 0px 1px 3px 1px rgba(0, 0, 0, 0.15);\n",
              "      filter: drop-shadow(0px 1px 2px rgba(0, 0, 0, 0.3));\n",
              "      fill: #FFFFFF;\n",
              "    }\n",
              "  </style>\n",
              "\n",
              "    <script>\n",
              "      const buttonEl =\n",
              "        document.querySelector('#df-6a89b6a9-8321-43f5-adf3-7c9705db672d button.colab-df-convert');\n",
              "      buttonEl.style.display =\n",
              "        google.colab.kernel.accessAllowed ? 'block' : 'none';\n",
              "\n",
              "      async function convertToInteractive(key) {\n",
              "        const element = document.querySelector('#df-6a89b6a9-8321-43f5-adf3-7c9705db672d');\n",
              "        const dataTable =\n",
              "          await google.colab.kernel.invokeFunction('convertToInteractive',\n",
              "                                                    [key], {});\n",
              "        if (!dataTable) return;\n",
              "\n",
              "        const docLinkHtml = 'Like what you see? Visit the ' +\n",
              "          '<a target=\"_blank\" href=https://colab.research.google.com/notebooks/data_table.ipynb>data table notebook</a>'\n",
              "          + ' to learn more about interactive tables.';\n",
              "        element.innerHTML = '';\n",
              "        dataTable['output_type'] = 'display_data';\n",
              "        await google.colab.output.renderOutput(dataTable, element);\n",
              "        const docLink = document.createElement('div');\n",
              "        docLink.innerHTML = docLinkHtml;\n",
              "        element.appendChild(docLink);\n",
              "      }\n",
              "    </script>\n",
              "  </div>\n",
              "\n",
              "\n",
              "<div id=\"df-aeefce6c-a102-4905-bf97-422c3058f62f\">\n",
              "  <button class=\"colab-df-quickchart\" onclick=\"quickchart('df-aeefce6c-a102-4905-bf97-422c3058f62f')\"\n",
              "            title=\"Suggest charts.\"\n",
              "            style=\"display:none;\">\n",
              "\n",
              "<svg xmlns=\"http://www.w3.org/2000/svg\" height=\"24px\"viewBox=\"0 0 24 24\"\n",
              "     width=\"24px\">\n",
              "    <g>\n",
              "        <path d=\"M19 3H5c-1.1 0-2 .9-2 2v14c0 1.1.9 2 2 2h14c1.1 0 2-.9 2-2V5c0-1.1-.9-2-2-2zM9 17H7v-7h2v7zm4 0h-2V7h2v10zm4 0h-2v-4h2v4z\"/>\n",
              "    </g>\n",
              "</svg>\n",
              "  </button>\n",
              "\n",
              "<style>\n",
              "  .colab-df-quickchart {\n",
              "    background-color: #E8F0FE;\n",
              "    border: none;\n",
              "    border-radius: 50%;\n",
              "    cursor: pointer;\n",
              "    display: none;\n",
              "    fill: #1967D2;\n",
              "    height: 32px;\n",
              "    padding: 0 0 0 0;\n",
              "    width: 32px;\n",
              "  }\n",
              "\n",
              "  .colab-df-quickchart:hover {\n",
              "    background-color: #E2EBFA;\n",
              "    box-shadow: 0px 1px 2px rgba(60, 64, 67, 0.3), 0px 1px 3px 1px rgba(60, 64, 67, 0.15);\n",
              "    fill: #174EA6;\n",
              "  }\n",
              "\n",
              "  [theme=dark] .colab-df-quickchart {\n",
              "    background-color: #3B4455;\n",
              "    fill: #D2E3FC;\n",
              "  }\n",
              "\n",
              "  [theme=dark] .colab-df-quickchart:hover {\n",
              "    background-color: #434B5C;\n",
              "    box-shadow: 0px 1px 3px 1px rgba(0, 0, 0, 0.15);\n",
              "    filter: drop-shadow(0px 1px 2px rgba(0, 0, 0, 0.3));\n",
              "    fill: #FFFFFF;\n",
              "  }\n",
              "</style>\n",
              "\n",
              "  <script>\n",
              "    async function quickchart(key) {\n",
              "      const charts = await google.colab.kernel.invokeFunction(\n",
              "          'suggestCharts', [key], {});\n",
              "    }\n",
              "    (() => {\n",
              "      let quickchartButtonEl =\n",
              "        document.querySelector('#df-aeefce6c-a102-4905-bf97-422c3058f62f button');\n",
              "      quickchartButtonEl.style.display =\n",
              "        google.colab.kernel.accessAllowed ? 'block' : 'none';\n",
              "    })();\n",
              "  </script>\n",
              "</div>\n",
              "    </div>\n",
              "  </div>\n"
            ],
            "text/plain": [
              "   Image   Mask\n",
              "0  0.jpg  0.png\n",
              "1  1.jpg  1.png\n",
              "2  2.jpg  2.png\n",
              "3  3.jpg  3.png\n",
              "4  4.jpg  4.png"
            ]
          },
          "execution_count": 8,
          "metadata": {},
          "output_type": "execute_result"
        }
      ],
      "source": [
        "metadata = pd.read_csv('/content/flood-area-segmentation/metadata.csv')\n",
        "metadata.head()"
      ]
    },
    {
      "cell_type": "code",
      "execution_count": null,
      "metadata": {
        "id": "uUy-kuTv23Dp"
      },
      "outputs": [],
      "source": [
        "class ImageDataset(Dataset):\n",
        "  def __init__(self, image_dir, mask_dir, transform=None):\n",
        "    self.image_dir = image_dir\n",
        "    self.mask_dir = mask_dir\n",
        "    self.transform = transform\n",
        "    self.images = os.listdir(image_dir)\n",
        "    self.masks = os.listdir(mask_dir)\n",
        "\n",
        "  def __len__(self):\n",
        "    return len(self.images)\n",
        "\n",
        "  def __getitem__(self, idx):\n",
        "    img_path = os.path.join(self.image_dir, self.images[idx])\n",
        "    mask_path = os.path.join(self.mask_dir, self.images[idx].replace(\".jpg\", '.png'))\n",
        "    image = np.array(Image.open(img_path).convert(\"RGB\"))\n",
        "    mask = np.array(Image.open(mask_path).convert(\"L\"), dtype=np.float32)\n",
        "\n",
        "    mask[mask==255.0]==1.0 # convert white pixels to 1\n",
        "\n",
        "    if self.transform is not None:\n",
        "      augment = self.transform(image=image, mask=mask)\n",
        "      image = augment[\"image\"]\n",
        "      mask = augment[\"mask\"]\n",
        "\n",
        "    return image, mask"
      ]
    },
    {
      "cell_type": "markdown",
      "metadata": {
        "id": "tiEQQ-HJq99k"
      },
      "source": [
        "# Training"
      ]
    },
    {
      "cell_type": "code",
      "execution_count": null,
      "metadata": {
        "id": "5jnsjhFVuOfz"
      },
      "outputs": [],
      "source": [
        "import albumentations as A\n",
        "from albumentations.pytorch import ToTensorV2\n",
        "from tqdm import tqdm"
      ]
    },
    {
      "cell_type": "code",
      "execution_count": null,
      "metadata": {
        "id": "mGiLvZKqqyVO"
      },
      "outputs": [],
      "source": [
        "# Hyperparams\n",
        "LR = 1e-4\n",
        "DEVICE = \"cuda\" if torch.cuda.is_available() else \"cpu\"\n",
        "BATCH_SIZE = 16\n",
        "NUM_EPOCHS = 20\n",
        "NUM_WORKERS = 2\n",
        "IMAGE_HEIGHT = 320\n",
        "IMAGE_WIDTH = 480\n",
        "PIN_MEMORY = True\n",
        "LOAD_MODEL = False\n",
        "IMAGE_DIR = \"/content/flood-area-segmentation/Image\"\n",
        "MASK_DIR = \"/content/flood-area-segmentation/Mask\""
      ]
    },
    {
      "cell_type": "code",
      "execution_count": null,
      "metadata": {
        "id": "-AjaTDzqthDT"
      },
      "outputs": [],
      "source": [
        "train_transform = A.Compose([\n",
        "    A.Resize(height=IMAGE_HEIGHT, width=IMAGE_WIDTH),\n",
        "        A.Rotate(limit=25, p=1.0),\n",
        "        A.HorizontalFlip(p=0.5),\n",
        "        A.Normalize(\n",
        "            mean=[0.0, 0.0, 0.0],\n",
        "            std=[1.0, 1.0, 1.0],\n",
        "            max_pixel_value=255.0\n",
        "        ),\n",
        "        ToTensorV2(),],\n",
        "        is_check_shapes=False)\n",
        "\n",
        "val_transform = A.Compose(\n",
        "    [\n",
        "        A.Resize(height=IMAGE_HEIGHT, width=IMAGE_WIDTH),\n",
        "        A.Normalize(\n",
        "            mean=[0.0, 0.0, 0.0],\n",
        "            std=[1.0, 1.0, 1.0],\n",
        "            max_pixel_value=255.0\n",
        "        ),\n",
        "        ToTensorV2(),\n",
        "    ],\n",
        ")"
      ]
    },
    {
      "cell_type": "code",
      "execution_count": null,
      "metadata": {
        "id": "G3HogQVAzQTn"
      },
      "outputs": [],
      "source": [
        " def get_loaders(\n",
        "    IMAGE_DIR,\n",
        "    MASK_DIR,\n",
        "    train_transform,\n",
        "    val_transform,\n",
        "    BATCH_SIZE,\n",
        "    NUM_WORKERS,\n",
        "    PIN_MEMORY,\n",
        "    shuffle=True,\n",
        "  ):\n",
        "\n",
        "  image_ds = ImageDataset(\n",
        "      image_dir = IMAGE_DIR,\n",
        "      mask_dir=MASK_DIR,\n",
        "      transform=train_transform\n",
        "  )\n",
        "\n",
        "  loader = DataLoader(\n",
        "      image_ds,\n",
        "      batch_size=BATCH_SIZE,\n",
        "      num_workers=NUM_WORKERS,\n",
        "      pin_memory=PIN_MEMORY,\n",
        "      shuffle=True\n",
        "  )\n",
        "  return loader\n",
        "\n",
        "def check_acc(loader, model, device=\"cuda\"):\n",
        "  correct = 0\n",
        "  pixels = 0\n",
        "  dice = 0\n",
        "  model.eval()\n",
        "\n",
        "  with torch.no_grad():\n",
        "    for x, y in loader:\n",
        "      x = x.to(device)\n",
        "      y = y.to(device)\n",
        "      preds = torch.sigmoid(model(x))\n",
        "      preds = (preds>0.5).float()\n",
        "      correct += (preds==y).sum()\n",
        "      pixels += torch.numel(preds)\n",
        "      dice += (2*(preds*y).sum())/((preds+y).sum()+1e-8)\n",
        "    print(\"Score:\", dice/len(loader))\n",
        "    model.train()\n",
        "\n",
        "def save_img(loader, model, save_folder=\"generated-unet\", device=\"cuda\"):\n",
        "  model.eval()\n",
        "  for idx, (x, y) in enumerate(loader):\n",
        "    x = x.to(device)\n",
        "    with torch.no_grad():\n",
        "      preds = torch.sigmoid(model(x))\n",
        "      preds = (preds>0.5).float()\n",
        "\n",
        "    for i in range(len(preds)):\n",
        "      save_image(preds[i], f\"{save_folder}/preds/pred_{idx}_{i}.png\")\n",
        "      save_image(y[i], f\"{save_folder}/targets/target_{idx}_{i}.png\")\n",
        "\n",
        "  model.train()\n"
      ]
    },
    {
      "cell_type": "code",
      "execution_count": null,
      "metadata": {
        "id": "k9Pq1zKAT-Fx"
      },
      "outputs": [],
      "source": [
        "train_loader = get_loaders(\n",
        "    IMAGE_DIR,\n",
        "    MASK_DIR,\n",
        "    train_transform,\n",
        "    val_transform,\n",
        "    BATCH_SIZE,\n",
        "    NUM_WORKERS,\n",
        "    PIN_MEMORY,\n",
        "    shuffle=True,\n",
        "  )"
      ]
    },
    {
      "cell_type": "code",
      "execution_count": null,
      "metadata": {
        "colab": {
          "base_uri": "https://localhost:8080/",
          "height": 216
        },
        "id": "TeXF2adSUkiy",
        "outputId": "e13d01f6-2f85-4981-d566-10c97a913f83"
      },
      "outputs": [
        {
          "data": {
            "image/png": "[encoded data removed]",
            "text/plain": [
              "<Figure size 640x480 with 2 Axes>"
            ]
          },
          "metadata": {},
          "output_type": "display_data"
        }
      ],
      "source": [
        "for batch in train_loader:\n",
        "    images, labels = batch\n",
        "    fig, ax = plt.subplots(1, 2)\n",
        "    ax[0].imshow(images[0].permute(1, 2, 0).numpy())\n",
        "    ax[1].imshow(labels[0].numpy())\n",
        "    plt.show()\n",
        "    break"
      ]
    },
    {
      "cell_type": "code",
      "execution_count": null,
      "metadata": {
        "id": "BphP_jA4sTXA"
      },
      "outputs": [],
      "source": [
        "def train_loop(loader, model, optimizer, loss_fn, scaler):\n",
        "  loop = tqdm(loader)\n",
        "\n",
        "  for batch_idx, (data, targets) in enumerate(loop):\n",
        "    data = data.to(DEVICE)\n",
        "    targets = targets.float().unsqueeze(1).to(DEVICE)\n",
        "\n",
        "    # forward\n",
        "    with torch.cuda.amp.autocast():\n",
        "      preds = model(data)\n",
        "      loss = loss_fn(preds, targets)\n",
        "\n",
        "    # backward\n",
        "    optimizer.zero_grad()\n",
        "    scaler.scale(loss).backward()\n",
        "    scaler.step(optimizer)\n",
        "    scaler.update()\n",
        "\n",
        "    # update tqdm\n",
        "    loop.set_postfix(loss=loss.item())"
      ]
    },
    {
      "cell_type": "code",
      "execution_count": null,
      "metadata": {},
      "outputs": [],
      "source": [
        "class convBlock(nn.Module):\n",
        "  def __init__(self, in_channels, num_features):\n",
        "    super(convBlock, self).__init__()\n",
        "\n",
        "    self.conv = nn.Sequential(\n",
        "        nn.Conv2d(in_channels=in_channels, out_channels=num_features, kernel_size=3, stride=1, padding=1, bias=False),\n",
        "        nn.BatchNorm2d(num_features=num_features),\n",
        "        nn.ReLU(inplace=True),\n",
        "        nn.Conv2d(in_channels=num_features, out_channels=num_features, kernel_size=3, stride=1, padding=1, bias=False),\n",
        "        nn.BatchNorm2d(num_features=num_features),\n",
        "        nn.ReLU(inplace=True),\n",
        "    )\n",
        "\n",
        "  def forward(self, x):\n",
        "    return self.conv(x)\n",
        "\n",
        "# Unet\n",
        "class UNET(nn.Module):\n",
        "  def __init__(\n",
        "      self, in_channels=3, out_channels=1, features=[64, 128, 256, 512]\n",
        "  ):\n",
        "    super(UNET, self).__init__()\n",
        "\n",
        "    self.contract = nn.ModuleList()\n",
        "    self.expand = nn.ModuleList()\n",
        "    self.pool = nn.MaxPool2d(kernel_size=2, stride=2)\n",
        "\n",
        "    # Contracting Path\n",
        "    for feature in features:\n",
        "      self.contract.append(convBlock(in_channels, feature))\n",
        "      in_channels = feature\n",
        "\n",
        "    # Expanding Path\n",
        "    for feature in reversed(features):\n",
        "      self.expand.append(nn.ConvTranspose2d(feature*2, feature, kernel_size=2, stride=2))\n",
        "      self.expand.append(convBlock(feature*2, feature))\n",
        "\n",
        "    # Bottleneck layer\n",
        "    self.bottleneck = convBlock(features[-1], features[-1]*2)\n",
        "    self.final_conv = nn.Conv2d(features[0], out_channels, kernel_size=1)\n",
        "\n",
        "  def forward(self, x):\n",
        "    skip_connections = []\n",
        "\n",
        "    for layer in self.contract:\n",
        "      x = layer(x)\n",
        "      skip_connections.append(x)\n",
        "      x = self.pool(x)\n",
        "\n",
        "    x = self.bottleneck(x)\n",
        "    skip_connections = skip_connections[::-1]\n",
        "\n",
        "    for i in range(0, len(self.expand), 2):\n",
        "      x = self.expand[i](x)\n",
        "      skip = skip_connections[i//2]\n",
        "\n",
        "      if x.shape!=skip.shape:\n",
        "        x = TF.resize(x, size=skip.shape[2:])\n",
        "\n",
        "      concat_skip = torch.cat((skip, x), dim=1)\n",
        "      x = self.expand[i+1](concat_skip)\n",
        "\n",
        "    return self.final_conv(x)"
      ]
    },
    {
      "cell_type": "code",
      "execution_count": null,
      "metadata": {
        "id": "4_XLDRTUwgI3"
      },
      "outputs": [],
      "source": [
        "model = UNET(in_channels = 3, out_channels = 1).to(DEVICE)\n",
        "loss_fn = nn.BCEWithLogitsLoss()\n",
        "optimizer = optim.Adam(model.parameters(), lr=LR)"
      ]
    },
    {
      "cell_type": "code",
      "execution_count": null,
      "metadata": {
        "id": "2S5r4Z7Iyrfk"
      },
      "outputs": [],
      "source": [
        "scaler = torch.cuda.amp.GradScaler()\n",
        "for epoch in range(NUM_EPOCHS):\n",
        "  train_loop(train_loader, model, optimizer, loss_fn, scaler)\n",
        "\n",
        "  # save\n",
        "  checkpt = {\n",
        "      \"state_dict\": model.state_dict(),\n",
        "      \"optim_dict\": optimizer.state_dict()\n",
        "  }\n",
        "\n",
        "  torch.save(checkpt, \"unet-01.pth.tar\")\n",
        "\n",
        "save_img(train_loader, model)\n",
        "check_acc(train_loader, model)"
      ]
    },
    {
      "cell_type": "code",
      "execution_count": null,
      "metadata": {
        "id": "cFlcIH7xgjhP"
      },
      "outputs": [],
      "source": [
        "torch.save(checkpt, \"models/unet-01.pth.tar\")"
      ]
    },
    {
      "cell_type": "markdown",
      "metadata": {
        "id": "UnSwwdiIYCax"
      },
      "source": []
    },
    {
      "cell_type": "markdown",
      "metadata": {
        "id": "pNpbcC5JMjrE"
      },
      "source": [
        "# Load Previous"
      ]
    },
    {
      "cell_type": "code",
      "execution_count": null,
      "metadata": {
        "colab": {
          "base_uri": "https://localhost:8080/"
        },
        "id": "54ZkO2UZMNPF",
        "outputId": "9b10cd79-c062-45ff-bf01-74f03d9c3732"
      },
      "outputs": [
        {
          "data": {
            "text/plain": [
              "<All keys matched successfully>"
            ]
          },
          "execution_count": 20,
          "metadata": {},
          "output_type": "execute_result"
        }
      ],
      "source": [
        "checkpt = torch.load(\"/content/drive/MyDrive/labrat/U-Net/unet-01.pth.tar\")\n",
        "model.load_state_dict(checkpt[\"state_dict\"])"
      ]
    },
    {
      "cell_type": "code",
      "execution_count": null,
      "metadata": {
        "id": "UjlCpsQMOK0x"
      },
      "outputs": [],
      "source": [
        "save_img(train_loader, model)"
      ]
    }
  ],
  "metadata": {
    "accelerator": "GPU",
    "colab": {
      "collapsed_sections": [
        "AtUrmwkV41Oi"
      ],
      "gpuType": "T4",
      "provenance": []
    },
    "kernelspec": {
      "display_name": "Python 3",
      "name": "python3"
    },
    "language_info": {
      "name": "python"
    }
  },
  "nbformat": 4,
  "nbformat_minor": 0
}
